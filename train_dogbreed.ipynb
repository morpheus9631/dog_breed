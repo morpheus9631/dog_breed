{
 "cells": [
  {
   "cell_type": "code",
   "execution_count": 1,
   "metadata": {},
   "outputs": [
    {
     "name": "stdout",
     "output_type": "stream",
     "text": [
      "Namespace(cfg='configs/config_train.yaml')\n"
     ]
    }
   ],
   "source": [
    "import argparse\n",
    "\n",
    "def parse_args(**args):\n",
    "    parser = argparse.ArgumentParser(description='dog breed')\n",
    "    parser.add_argument(\"--cfg\", type=str, default=\"configs/config_train.yaml\", help=\"Configurations.\")\n",
    "#     return parser.parse_args(**args)          # for python\n",
    "    return parser.parse_known_args(**args)    # for jupyter notebook\n",
    "\n",
    "# arguments \n",
    "args, _ = parse_args()\n",
    "print(args)"
   ]
  },
  {
   "cell_type": "code",
   "execution_count": 2,
   "metadata": {},
   "outputs": [
    {
     "name": "stdout",
     "output_type": "stream",
     "text": [
      "DATA:\n",
      "  FRAC_FOR_TRAIN: 0.8\n",
      "  ROOT_PATH: D:\\Dataset\\dog_breed\\\n",
      "WORK:\n",
      "  LABELS_FNAME: labels.csv\n",
      "  ROOT_PATH: D:\\GitWork\\dog_breed\\\n",
      "\n",
      "Labels path:  D:\\Dataset\\dog_breed\\labels.csv\n"
     ]
    }
   ],
   "source": [
    "import os, sys\n",
    "from configs.config_train import get_cfg_defaults\n",
    "\n",
    "cfg = get_cfg_defaults()\n",
    "cfg.merge_from_file(args.cfg)\n",
    "cfg.freeze()\n",
    "print(cfg)\n",
    "\n",
    "path_label = os.path.join(cfg.DATA.ROOT_PATH, cfg.WORK.LABELS_FNAME)\n",
    "\n",
    "print('\\nLabels path: ', path_label)"
   ]
  },
  {
   "cell_type": "code",
   "execution_count": 3,
   "metadata": {},
   "outputs": [
    {
     "name": "stdout",
     "output_type": "stream",
     "text": [
      "<class 'pandas.core.frame.DataFrame'>\n",
      "RangeIndex: 10222 entries, 0 to 10221\n",
      "Data columns (total 2 columns):\n",
      " #   Column  Non-Null Count  Dtype \n",
      "---  ------  --------------  ----- \n",
      " 0   id      10222 non-null  object\n",
      " 1   breed   10222 non-null  object\n",
      "dtypes: object(2)\n",
      "memory usage: 159.8+ KB\n",
      "None\n",
      "                                 id             breed\n",
      "0  000bec180eb18c7604dcecc8fe0dba07       boston_bull\n",
      "1  001513dfcb2ffafc82cccf4d8bbaba97             dingo\n",
      "2  001cdf01b096e06d78e9e5112d419397          pekinese\n",
      "3  00214f311d5d2247d5dfe4fe24b2303d          bluetick\n",
      "4  0021f9ceb3235effd7fcde7f7538ed62  golden_retriever\n"
     ]
    }
   ],
   "source": [
    "import pandas as pd\n",
    "import numpy as np\n",
    "\n",
    "df = pd.read_csv(path_label)\n",
    "print(df.info())\n",
    "print(df.head())"
   ]
  },
  {
   "cell_type": "code",
   "execution_count": null,
   "metadata": {},
   "outputs": [],
   "source": []
  }
 ],
 "metadata": {
  "kernelspec": {
   "display_name": "Python 3",
   "language": "python",
   "name": "python3"
  },
  "language_info": {
   "codemirror_mode": {
    "name": "ipython",
    "version": 3
   },
   "file_extension": ".py",
   "mimetype": "text/x-python",
   "name": "python",
   "nbconvert_exporter": "python",
   "pygments_lexer": "ipython3",
   "version": "3.7.7"
  }
 },
 "nbformat": 4,
 "nbformat_minor": 4
}
