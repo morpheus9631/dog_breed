{
 "cells": [
  {
   "cell_type": "code",
   "execution_count": 1,
   "metadata": {},
   "outputs": [
    {
     "name": "stdout",
     "output_type": "stream",
     "text": [
      "PyTorch Version:  1.5.1\n",
      "Torchvision Version:  0.6.1\n"
     ]
    }
   ],
   "source": [
    "# From: https://www.kaggle.com/c/dog-breed-identification/data\n",
    "# Author: Morpheus Hsieh\n",
    "\n",
    "from __future__ import print_function, division\n",
    "\n",
    "import os, sys\n",
    "import copy\n",
    "import io\n",
    "import json\n",
    "import matplotlib.pyplot as plt\n",
    "import numpy as np\n",
    "import pandas as pd\n",
    "import time\n",
    "from mpl_toolkits.axes_grid1 import ImageGrid\n",
    "from os import listdir\n",
    "from os.path import join, isfile\n",
    "from PIL import Image\n",
    "\n",
    "import torch\n",
    "import torch.nn as nn\n",
    "import torch.optim as optim\n",
    "from torch.autograd import Variable\n",
    "from torch.optim import lr_scheduler\n",
    "from torch.utils.data import Dataset, DataLoader\n",
    "\n",
    "import torchvision\n",
    "from torchvision import datasets, models, transforms, utils\n",
    "\n",
    "print(\"PyTorch Version: \",torch.__version__)\n",
    "print(\"Torchvision Version: \",torchvision.__version__)"
   ]
  },
  {
   "cell_type": "code",
   "execution_count": 2,
   "metadata": {},
   "outputs": [
    {
     "name": "stdout",
     "output_type": "stream",
     "text": [
      "Proc path: D:\\GitWork\\dog_breed\\data\\processed\n",
      "Test path: 'D:\\GitWork\\dog_breed\\data\\raw\\test'\n",
      "Model path: 'D:\\GitWork\\dog_breed\\models'\n",
      "Output path: 'D:\\GitWork\\dog_breed\\output'\n"
     ]
    }
   ],
   "source": [
    "ProcPath = r'D:\\GitWork\\dog_breed\\data\\processed'\n",
    "print('Proc path:', ProcPath)\n",
    "\n",
    "TestPath = r'D:\\GitWork\\dog_breed\\data\\raw\\test'\n",
    "print(\"Test path: '{}'\".format(TestPath))\n",
    "\n",
    "ModelPath = r'D:\\GitWork\\dog_breed\\models'\n",
    "print(\"Model path: '{}'\".format(ModelPath))\n",
    "\n",
    "OutPath = r'D:\\GitWork\\dog_breed\\output'\n",
    "print(\"Output path: '{}'\".format(OutPath))\n",
    "\n",
    "BestModel = '20200916-160223_resnet50_acc94.pth'\n",
    "\n",
    "BatchSize = 6\n",
    "NumClasses = 16"
   ]
  },
  {
   "cell_type": "code",
   "execution_count": 3,
   "metadata": {
    "scrolled": true
   },
   "outputs": [
    {
     "name": "stdout",
     "output_type": "stream",
     "text": [
      "<class 'pandas.core.frame.DataFrame'>\n",
      "RangeIndex: 120 entries, 0 to 119\n",
      "Data columns (total 3 columns):\n",
      " #   Column    Non-Null Count  Dtype \n",
      "---  ------    --------------  ----- \n",
      " 0   breed_id  120 non-null    int64 \n",
      " 1   breed     120 non-null    object\n",
      " 2   count     120 non-null    int64 \n",
      "dtypes: int64(2), object(1)\n",
      "memory usage: 2.9+ KB\n",
      "None\n",
      "\n",
      "   breed_id                 breed  count\n",
      "0         0    scottish_deerhound    126\n",
      "1         1           maltese_dog    117\n",
      "2         2          afghan_hound    116\n",
      "3         3           entlebucher    115\n",
      "4         4  bernese_mountain_dog    114\n"
     ]
    }
   ],
   "source": [
    "# Read breed information from csv\n",
    "CsvBreedsProc = 'breeds_processed.csv'\n",
    "f_abspath = join(ProcPath, CsvBreedsProc)\n",
    "\n",
    "df_breeds = pd.read_csv(f_abspath)\n",
    "\n",
    "print(df_breeds.info())\n",
    "print(); print(df_breeds.head())"
   ]
  },
  {
   "cell_type": "code",
   "execution_count": 4,
   "metadata": {},
   "outputs": [
    {
     "name": "stdout",
     "output_type": "stream",
     "text": [
      "\n",
      "Selected breeds: [\n",
      "  scottish_deerhound\n",
      "  maltese_dog\n",
      "  afghan_hound\n",
      "  entlebucher\n",
      "  bernese_mountain_dog\n",
      "  shih-tzu\n",
      "  great_pyrenees\n",
      "  pomeranian\n",
      "  basenji\n",
      "  samoyed\n",
      "  airedale\n",
      "  tibetan_terrier\n",
      "  cairn\n",
      "  leonberg\n",
      "  beagle\n",
      "  japanese_spaniel\n",
      "]\n",
      "\n",
      "Selected breed ids:\n",
      "  [0, 1, 2, 3, 4, 5, 6, 7, 8, 9, 10, 11, 13, 12, 14, 15]\n"
     ]
    }
   ],
   "source": [
    "# Get most popular breeds\n",
    "\n",
    "def getMostPopularBreeds(df, numClasses=16):\n",
    "    df1 = df.sort_values(['count', 'breed'], ascending=(False, True))\n",
    "    df1 = df1.head(numClasses)\n",
    "    return df1\n",
    "\n",
    "df_breeds_selected = getMostPopularBreeds(df_breeds, NumClasses)\n",
    "\n",
    "selected_brds = list(df_breeds_selected['breed'])\n",
    "print('\\nSelected breeds: [\\n  {}\\n]'.format('\\n  '.join(selected_brds)))\n",
    "\n",
    "selected_bids = list(df_breeds_selected['breed_id'])\n",
    "print('\\nSelected breed ids:\\n  {}'.format(selected_bids))"
   ]
  },
  {
   "cell_type": "code",
   "execution_count": 5,
   "metadata": {},
   "outputs": [
    {
     "name": "stdout",
     "output_type": "stream",
     "text": [
      "Breeds dict forward:\n",
      "{\n",
      "  \"scottish_deerhound\": 0,\n",
      "  \"maltese_dog\": 1,\n",
      "  \"afghan_hound\": 2,\n",
      "  \"entlebucher\": 3,\n",
      "  \"bernese_mountain_dog\": 4,\n",
      "  \"shih-tzu\": 5,\n",
      "  \"great_pyrenees\": 6,\n",
      "  \"pomeranian\": 7,\n",
      "  \"basenji\": 8,\n",
      "  \"samoyed\": 9,\n",
      "  \"airedale\": 10,\n",
      "  \"tibetan_terrier\": 11,\n",
      "  \"cairn\": 13,\n",
      "  \"leonberg\": 12,\n",
      "  \"beagle\": 14,\n",
      "  \"japanese_spaniel\": 15\n",
      "}\n"
     ]
    }
   ],
   "source": [
    "# Build breed dictionaries\n",
    "\n",
    "def df2dict(df):\n",
    "    dic = {}\n",
    "    for i, row in df.iterrows():\n",
    "        dic[row['breed']] = row['breed_id']\n",
    "    return dic\n",
    "\n",
    "dict_breed_fw = df2dict(df_breeds_selected)\n",
    "\n",
    "print('Breeds dict forward:'); \n",
    "print(json.dumps(dict_breed_fw, indent=2))"
   ]
  },
  {
   "cell_type": "code",
   "execution_count": 6,
   "metadata": {},
   "outputs": [
    {
     "name": "stdout",
     "output_type": "stream",
     "text": [
      "Origin labels:\n",
      "\n",
      "    <class 'pandas.core.frame.DataFrame'>\n",
      "    RangeIndex: 10222 entries, 0 to 10221\n",
      "    Data columns (total 2 columns):\n",
      "     #   Column    Non-Null Count  Dtype \n",
      "    ---  ------    --------------  ----- \n",
      "     0   image     10222 non-null  object\n",
      "     1   breed_id  10222 non-null  int64 \n",
      "    dtypes: int64(1), object(1)\n",
      "    memory usage: 159.8+ KB\n",
      "    \n",
      "\n",
      "Selected labels:\n",
      "\n",
      "    <class 'pandas.core.frame.DataFrame'>\n",
      "    Int64Index: 1777 entries, 8 to 10219\n",
      "    Data columns (total 2 columns):\n",
      "     #   Column    Non-Null Count  Dtype \n",
      "    ---  ------    --------------  ----- \n",
      "     0   image     1777 non-null   object\n",
      "     1   breed_id  1777 non-null   int64 \n",
      "    dtypes: int64(1), object(1)\n",
      "    memory usage: 41.6+ KB\n",
      "    \n",
      "\n",
      "Selected labels Head:\n",
      "                                                                           image  breed_id\n",
      "    8   D:\\GitWork\\dog_breed\\data\\raw\\train\\003df8b8a8b05244b1d920bb6cf451f9.jpg         8\n",
      "    9   D:\\GitWork\\dog_breed\\data\\raw\\train\\0042188c895a2f14ef64a918ed9c7b64.jpg         0\n",
      "    12  D:\\GitWork\\dog_breed\\data\\raw\\train\\00693b8bc2470375cc744a6391d397ec.jpg         1\n",
      "    29  D:\\GitWork\\dog_breed\\data\\raw\\train\\00bee065dcec471f26394855c5c2f3de.jpg        13\n",
      "    48  D:\\GitWork\\dog_breed\\data\\raw\\train\\013f8fdf6d638c7bb042f5f17e8a9fdc.jpg        11\n",
      "    57  D:\\GitWork\\dog_breed\\data\\raw\\train\\0162b3e0144fb1d1ab82fbff3ace9938.jpg         5\n",
      "    70  D:\\GitWork\\dog_breed\\data\\raw\\train\\01b36cb1b80ab8c3a7d2b7128ad21bdc.jpg         9\n",
      "    79  D:\\GitWork\\dog_breed\\data\\raw\\train\\01e787576c003930f96c966f9c3e1d44.jpg         0\n",
      "    80  D:\\GitWork\\dog_breed\\data\\raw\\train\\01ee3c7ff9bcaba9874183135877670e.jpg         3\n",
      "    88  D:\\GitWork\\dog_breed\\data\\raw\\train\\021b5a49189665c0442c19b5b33e8cf1.jpg         3\n"
     ]
    }
   ],
   "source": [
    "# Selected labels\n",
    "\n",
    "def dfInfo2Str(df, indent=4):\n",
    "    buf = io.StringIO()\n",
    "    df.info(buf=buf)\n",
    "    pad_str = (' ' * indent)\n",
    "    old_str = '\\n'\n",
    "    new_str = '\\n' + pad_str\n",
    "    outstr = buf.getvalue().replace(old_str, new_str)\n",
    "    return pad_str + outstr\n",
    "\n",
    "CsvLabelsProc = 'labels_processed.csv'\n",
    "f_abspath = join(ProcPath, CsvLabelsProc)\n",
    "\n",
    "df_labels = pd.read_csv(f_abspath)\n",
    "print('Origin labels:\\n')\n",
    "print(dfInfo2Str(df_labels))\n",
    "\n",
    "df_labels_selected = df_labels[df_labels['breed_id'].isin(selected_bids)]\n",
    "\n",
    "print('\\nSelected labels:\\n')\n",
    "print(dfInfo2Str(df_labels_selected))\n",
    "\n",
    "\n",
    "def dfHead2Str(df, num=10, indent=4):\n",
    "    inStr = df.head(num).to_string()\n",
    "    padstr = ' ' * indent\n",
    "    outStr = padstr + inStr.replace('\\n', '\\n'+padstr)\n",
    "    return outStr\n",
    "\n",
    "print('\\nSelected labels Head:')\n",
    "print(dfHead2Str(df_labels_selected))"
   ]
  },
  {
   "cell_type": "code",
   "execution_count": 10,
   "metadata": {},
   "outputs": [
    {
     "name": "stdout",
     "output_type": "stream",
     "text": [
      "cuda:0\n",
      "\n",
      "Start testing...\n",
      "Testing time:   1.032762 minutes\n",
      "\n",
      "<class 'pandas.core.frame.DataFrame'>\n",
      "Int64Index: 1777 entries, 0 to 1776\n",
      "Data columns (total 3 columns):\n",
      " #   Column     Non-Null Count  Dtype \n",
      "---  ------     --------------  ----- \n",
      " 0   id         1777 non-null   object\n",
      " 1   breed_id   1777 non-null   object\n",
      " 2   inference  1777 non-null   object\n",
      "dtypes: object(3)\n",
      "memory usage: 55.5+ KB\n",
      "None\n",
      "\n",
      "                                 id breed_id inference\n",
      "0  003df8b8a8b05244b1d920bb6cf451f9        8         6\n",
      "1  0042188c895a2f14ef64a918ed9c7b64        0         6\n",
      "2  00693b8bc2470375cc744a6391d397ec        1        11\n",
      "3  00bee065dcec471f26394855c5c2f3de       13        11\n",
      "4  013f8fdf6d638c7bb042f5f17e8a9fdc       11        11\n"
     ]
    }
   ],
   "source": [
    "# prediction\n",
    "use_gpu = torch.cuda.is_available()\n",
    "device = torch.device(\"cuda:0\" if use_gpu else \"cpu\")\n",
    "print(device)\n",
    "\n",
    "resnet = models.resnet50(pretrained=True)\n",
    "\n",
    "# New final layer with NumClasses\n",
    "num_ftrs = resnet.fc.in_features\n",
    "resnet.fc = nn.Linear(num_ftrs, NumClasses)\n",
    "\n",
    "PreTrainedModel = 'resnet50_acc94_20200918-1627.pth'\n",
    "model_abspath = join(ModelPath, PreTrainedModel)\n",
    "resnet.load_state_dict(torch.load(model_abspath))\n",
    "\n",
    "resnet = resnet.cuda()\n",
    "\n",
    "df_infer = pd.DataFrame(columns=['id', 'breed_id', 'inference'])\n",
    "\n",
    "# Transform\n",
    "transform = transforms.Compose([\n",
    "    transforms.Resize((224,224)),\n",
    "    transforms.ToTensor(),\n",
    "    transforms.Normalize(\n",
    "        mean = [0.485, 0.456, 0.406],\n",
    "        std  = [0.229, 0.224, 0.225]\n",
    "    )\n",
    "])\n",
    "\n",
    "# num_test = 100\n",
    "# df_test = df_labels_selected.head(num_test)\n",
    "df_test = df_labels_selected\n",
    "\n",
    "start_time = time.time()\n",
    "print('\\nStart testing...')\n",
    "\n",
    "for i, row in df_test.iterrows():\n",
    "    img_path = row['image']\n",
    "    img_pil = Image.open(img_path)\n",
    "    img_tensor = transform(img_pil).unsqueeze_(0)\n",
    "    inp = Variable(img_tensor)\n",
    "    inp = inp.to(device)\n",
    "    res = resnet(inp)\n",
    "    index = res.data.cpu().numpy().argmax()\n",
    "   \n",
    "    img_id = os.path.split(img_path)[1].replace('.jpg', '')\n",
    "    breed_id = row['breed_id']\n",
    "    df_infer.loc[len(df_infer)] = [img_id, breed_id, index]\n",
    "\n",
    "print('Testing time: {:10f} minutes'.format((time.time()-start_time)/60))    \n",
    "\n",
    "print(); print(df_infer.info())\n",
    "print(); print(df_infer.head())"
   ]
  },
  {
   "cell_type": "code",
   "execution_count": 11,
   "metadata": {},
   "outputs": [],
   "source": [
    "from datetime import datetime\n",
    "\n",
    "currDT = datetime.now()\n",
    "currStr = currDT.strftime(\"%Y%m%d-%H%M%S\")\n",
    "fname_infer = 'Inference_{}.csv'.format(currStr)\n",
    "\n",
    "df_infer.to_csv(join(OutPath, fname_infer), index=False)"
   ]
  },
  {
   "cell_type": "code",
   "execution_count": null,
   "metadata": {},
   "outputs": [],
   "source": []
  }
 ],
 "metadata": {
  "kernelspec": {
   "display_name": "Python 3",
   "language": "python",
   "name": "python3"
  },
  "language_info": {
   "codemirror_mode": {
    "name": "ipython",
    "version": 3
   },
   "file_extension": ".py",
   "mimetype": "text/x-python",
   "name": "python",
   "nbconvert_exporter": "python",
   "pygments_lexer": "ipython3",
   "version": "3.7.7"
  }
 },
 "nbformat": 4,
 "nbformat_minor": 4
}
