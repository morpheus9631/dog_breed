{
 "cells": [
  {
   "cell_type": "code",
   "execution_count": 2,
   "metadata": {},
   "outputs": [],
   "source": [
    "from __future__ import print_function, division\n",
    "\n",
    "# import os, sys\n",
    "import copy\n",
    "import json\n",
    "import matplotlib.pyplot as plt\n",
    "import numpy as np\n",
    "import pandas as pd\n",
    "import time\n",
    "from mpl_toolkits.axes_grid1 import ImageGrid\n",
    "from os import listdir\n",
    "from os.path import join\n",
    "from PIL import Image\n",
    "\n",
    "import torch\n",
    "import torch.nn as nn\n",
    "import torch.optim as optim\n",
    "from torch.autograd import Variable\n",
    "from torch.optim import lr_scheduler\n",
    "from torch.utils.data import Dataset, DataLoader\n",
    "\n",
    "import torchvision\n",
    "from torchvision import datasets, models, transforms, utils"
   ]
  },
  {
   "cell_type": "code",
   "execution_count": 3,
   "metadata": {},
   "outputs": [
    {
     "ename": "NameError",
     "evalue": "name 'ProcPath' is not defined",
     "output_type": "error",
     "traceback": [
      "\u001b[1;31m---------------------------------------------------------------------------\u001b[0m",
      "\u001b[1;31mNameError\u001b[0m                                 Traceback (most recent call last)",
      "\u001b[1;32m<ipython-input-3-991c33284e13>\u001b[0m in \u001b[0;36m<module>\u001b[1;34m\u001b[0m\n\u001b[0;32m      1\u001b[0m \u001b[0mpath\u001b[0m \u001b[1;33m=\u001b[0m \u001b[1;34mr'D:\\GitWork\\dog_breed\\data\\processed'\u001b[0m\u001b[1;33m\u001b[0m\u001b[1;33m\u001b[0m\u001b[0m\n\u001b[1;32m----> 2\u001b[1;33m \u001b[0mprint\u001b[0m\u001b[1;33m(\u001b[0m\u001b[1;34m\"Processed path: '{}'\"\u001b[0m\u001b[1;33m.\u001b[0m\u001b[0mformat\u001b[0m\u001b[1;33m(\u001b[0m\u001b[0mProcPath\u001b[0m\u001b[1;33m)\u001b[0m\u001b[1;33m)\u001b[0m\u001b[1;33m\u001b[0m\u001b[1;33m\u001b[0m\u001b[0m\n\u001b[0m",
      "\u001b[1;31mNameError\u001b[0m: name 'ProcPath' is not defined"
     ]
    }
   ],
   "source": [
    "path = r'D:\\GitWork\\dog_breed\\data\\processed'\n",
    "print(\"Processed path: '{}'\".format(ProcPath))"
   ]
  },
  {
   "cell_type": "code",
   "execution_count": null,
   "metadata": {},
   "outputs": [],
   "source": [
    "csv_proc_breeds = 'breeds_processed.csv'\n",
    "\n",
    "df_breeds = pd.read_csv(join(path, csv_proc_breeds))\n",
    "print('\\nBreeds info:'); print(df_breeds.info())\n",
    "print('\\nBreeds head:'); print(df_breeds.head())\n",
    "\n",
    "# Get most popular breeds\n",
    "NumClasses = 16\n",
    "\n",
    "selected_breeds = list(df_breeds['breed'][:NumClasses] )\n",
    "selected_bids = list(df_breeds['breed_id'][:NumClasses] )\n",
    "\n",
    "print('\\nSelected breeds: [\\n  {}\\n]'.format('\\n  '.join(selected_breeds)))\n",
    "print('\\nSelected breed ids:', selected_bids)\n",
    "\n",
    "df_breeds_selected = df_breeds[df_breeds['breed'].isin(selected_breeds)]\n",
    "print(); print(df_breeds_selected)"
   ]
  },
  {
   "cell_type": "code",
   "execution_count": 12,
   "metadata": {},
   "outputs": [
    {
     "name": "stdout",
     "output_type": "stream",
     "text": [
      "<class 'pandas.core.frame.DataFrame'>\n",
      "RangeIndex: 8177 entries, 0 to 8176\n",
      "Data columns (total 2 columns):\n",
      " #   Column  Non-Null Count  Dtype \n",
      "---  ------  --------------  ----- \n",
      " 0   images  8177 non-null   object\n",
      " 1   labels  8177 non-null   int64 \n",
      "dtypes: int64(1), object(1)\n",
      "memory usage: 127.9+ KB\n",
      "None\n",
      "                                              images  labels\n",
      "0  D:\\GitWork\\dog_breed\\data\\raw\\train\\000bec180e...      42\n",
      "1  D:\\GitWork\\dog_breed\\data\\raw\\train\\001513dfcb...      72\n",
      "2  D:\\GitWork\\dog_breed\\data\\raw\\train\\001cdf01b0...      94\n",
      "3  D:\\GitWork\\dog_breed\\data\\raw\\train\\00214f311d...      50\n",
      "4  D:\\GitWork\\dog_breed\\data\\raw\\train\\0021f9ceb3...     115\n",
      "\n",
      "Index(['images', 'labels'], dtype='object')\n"
     ]
    }
   ],
   "source": [
    "fname = 'train_data.npz'\n",
    "\n",
    "load_data = np.load(join(path, fname), allow_pickle=True)\n",
    "df1 = pd.DataFrame.from_dict({item: load_data[item] for item in load_data.files})\n",
    "print(df1.info())\n",
    "print(df1.head())\n",
    "\n",
    "col_names = df1.columns\n",
    "print(); print(col_names)"
   ]
  },
  {
   "cell_type": "code",
   "execution_count": 19,
   "metadata": {},
   "outputs": [
    {
     "name": "stdout",
     "output_type": "stream",
     "text": [
      "8177\n",
      "['D:\\\\GitWork\\\\dog_breed\\\\data\\\\raw\\\\train\\\\000bec180eb18c7604dcecc8fe0dba07.jpg'\n",
      " 'D:\\\\GitWork\\\\dog_breed\\\\data\\\\raw\\\\train\\\\001513dfcb2ffafc82cccf4d8bbaba97.jpg'\n",
      " 'D:\\\\GitWork\\\\dog_breed\\\\data\\\\raw\\\\train\\\\001cdf01b096e06d78e9e5112d419397.jpg'\n",
      " ...\n",
      " 'D:\\\\GitWork\\\\dog_breed\\\\data\\\\raw\\\\train\\\\cc7ae3da3bebcc4acb10128078cdf29a.jpg'\n",
      " 'D:\\\\GitWork\\\\dog_breed\\\\data\\\\raw\\\\train\\\\cc7af1c37c65fee4e036571c7f5b55f9.jpg'\n",
      " 'D:\\\\GitWork\\\\dog_breed\\\\data\\\\raw\\\\train\\\\cc8ec46c8c1ff5337ac636a9c21abcc2.jpg']\n",
      "\n",
      " 8177\n",
      "[ 42  72  94 ... 109  64  22]\n",
      "\n",
      " 1422\n",
      "[8, 9, 12, 29, 48, 57, 70, 79, 80, 88]\n"
     ]
    }
   ],
   "source": [
    "fname = 'train_data.npz'\n",
    "\n",
    "load_data = np.load(join(path, fname), allow_pickle=True)\n",
    "column_names = load_data.files\n",
    "\n",
    "df = pd.DataFrame(data=[load_data[x] for x in column_names]).T\n",
    "df.columns = load_data.files\n",
    "\n",
    "print(df.info())\n",
    "print(); print(df.head)\n",
    "\n",
    "df_delected = df[df['labels'].isin(selected_bids)]\n",
    "print(); print(df_delected.info())\n",
    "print(); print(df_delected.head)\n"
   ]
  },
  {
   "cell_type": "code",
   "execution_count": 25,
   "metadata": {},
   "outputs": [
    {
     "name": "stdout",
     "output_type": "stream",
     "text": [
      "<class 'pandas.core.frame.DataFrame'>\n",
      "RangeIndex: 2045 entries, 0 to 2044\n",
      "Data columns (total 2 columns):\n",
      " #   Column  Non-Null Count  Dtype \n",
      "---  ------  --------------  ----- \n",
      " 0   images  2045 non-null   object\n",
      " 1   labels  2045 non-null   object\n",
      "dtypes: object(2)\n",
      "memory usage: 32.1+ KB\n",
      "None\n",
      "\n",
      "<bound method NDFrame.head of                                                  images labels\n",
      "0     D:\\GitWork\\dog_breed\\data\\raw\\train\\cc93915e06...     37\n",
      "1     D:\\GitWork\\dog_breed\\data\\raw\\train\\cc964d3bf1...     60\n",
      "2     D:\\GitWork\\dog_breed\\data\\raw\\train\\cc97041986...     83\n",
      "3     D:\\GitWork\\dog_breed\\data\\raw\\train\\cc99de39a1...     22\n",
      "4     D:\\GitWork\\dog_breed\\data\\raw\\train\\cc9b4190a7...     33\n",
      "...                                                 ...    ...\n",
      "2040  D:\\GitWork\\dog_breed\\data\\raw\\train\\ffd25009d6...     93\n",
      "2041  D:\\GitWork\\dog_breed\\data\\raw\\train\\ffd3f636f7...     36\n",
      "2042  D:\\GitWork\\dog_breed\\data\\raw\\train\\ffe2ca6c94...     10\n",
      "2043  D:\\GitWork\\dog_breed\\data\\raw\\train\\ffe5f6d8e2...     18\n",
      "2044  D:\\GitWork\\dog_breed\\data\\raw\\train\\fff43b0799...     53\n",
      "\n",
      "[2045 rows x 2 columns]>\n",
      "\n",
      "<class 'pandas.core.frame.DataFrame'>\n",
      "Int64Index: 355 entries, 7 to 2042\n",
      "Data columns (total 2 columns):\n",
      " #   Column  Non-Null Count  Dtype \n",
      "---  ------  --------------  ----- \n",
      " 0   images  355 non-null    object\n",
      " 1   labels  355 non-null    object\n",
      "dtypes: object(2)\n",
      "memory usage: 8.3+ KB\n",
      "None\n",
      "\n",
      "<bound method NDFrame.head of                                                  images labels\n",
      "7     D:\\GitWork\\dog_breed\\data\\raw\\train\\ccb75b5d00...      5\n",
      "8     D:\\GitWork\\dog_breed\\data\\raw\\train\\ccbf2d7da8...     10\n",
      "9     D:\\GitWork\\dog_breed\\data\\raw\\train\\ccc369e93d...      6\n",
      "15    D:\\GitWork\\dog_breed\\data\\raw\\train\\ccd907aaac...     14\n",
      "19    D:\\GitWork\\dog_breed\\data\\raw\\train\\cce6c1a924...      4\n",
      "...                                                 ...    ...\n",
      "2030  D:\\GitWork\\dog_breed\\data\\raw\\train\\ffa4e1bf95...      8\n",
      "2035  D:\\GitWork\\dog_breed\\data\\raw\\train\\ffc532991d...     11\n",
      "2038  D:\\GitWork\\dog_breed\\data\\raw\\train\\ffcde16e7d...     10\n",
      "2039  D:\\GitWork\\dog_breed\\data\\raw\\train\\ffcffab7e4...      9\n",
      "2042  D:\\GitWork\\dog_breed\\data\\raw\\train\\ffe2ca6c94...     10\n",
      "\n",
      "[355 rows x 2 columns]>\n"
     ]
    }
   ],
   "source": [
    "fname = 'valid_data.npz'\n",
    "\n",
    "load_data = np.load(join(path, fname), allow_pickle=True)\n",
    "column_names = load_data.files\n",
    "\n",
    "df = pd.DataFrame(data=[load_data[x] for x in column_names]).T\n",
    "df.columns = load_data.files\n",
    "\n",
    "print(df.info())\n",
    "print(); print(df.head)\n",
    "\n",
    "df_delected = df[df['labels'].isin(selected_bids)]\n",
    "print(); print(df_delected.info())\n",
    "print(); print(df_delected.head)\n"
   ]
  },
  {
   "cell_type": "code",
   "execution_count": null,
   "metadata": {},
   "outputs": [],
   "source": []
  }
 ],
 "metadata": {
  "kernelspec": {
   "display_name": "Python 3",
   "language": "python",
   "name": "python3"
  },
  "language_info": {
   "codemirror_mode": {
    "name": "ipython",
    "version": 3
   },
   "file_extension": ".py",
   "mimetype": "text/x-python",
   "name": "python",
   "nbconvert_exporter": "python",
   "pygments_lexer": "ipython3",
   "version": "3.7.7"
  }
 },
 "nbformat": 4,
 "nbformat_minor": 4
}
