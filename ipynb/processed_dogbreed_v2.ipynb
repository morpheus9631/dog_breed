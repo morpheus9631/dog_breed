{
 "cells": [
  {
   "cell_type": "code",
   "execution_count": 1,
   "metadata": {},
   "outputs": [
    {
     "name": "stdout",
     "output_type": "stream",
     "text": [
      "torch:  1.5.1\n",
      "torchvision:  0.6.1\n"
     ]
    }
   ],
   "source": [
    "# Kaggle: https://www.kaggle.com/c/dog-breed-identification\n",
    "# Author: Morpheus Hsieh\n",
    "\n",
    "from __future__ import print_function, division\n",
    "\n",
    "import json\n",
    "import matplotlib.pyplot as plt\n",
    "import numpy as np\n",
    "import pandas as pd\n",
    "from PIL import Image\n",
    "from pandas import Series, DataFrame\n",
    "from os.path import join, exists\n",
    "\n",
    "import torch\n",
    "from torch.utils.data import Dataset, DataLoader\n",
    "\n",
    "import torchvision\n",
    "from torchvision import datasets, models, transforms, utils\n",
    "\n",
    "print('torch: ', torch.__version__)\n",
    "print('torchvision: ', torchvision.__version__)"
   ]
  },
  {
   "cell_type": "code",
   "execution_count": 2,
   "metadata": {},
   "outputs": [
    {
     "name": "stdout",
     "output_type": "stream",
     "text": [
      "Raw path: D:\\GitWork\\dog_breed\\data\\raw\n",
      "labsels.csv: 'D:\\GitWork\\dog_breed\\data\\raw\\labels.csv'\n",
      "\n",
      "Proc path: D:\\GitWork\\dog_breed\\data\\processed\n",
      "breed_dict.csv: 'D:\\GitWork\\dog_breed\\data\\processed\\breeds_dict.csv'\n"
     ]
    }
   ],
   "source": [
    "RawPath = r'D:\\GitWork\\dog_breed\\data\\raw'\n",
    "print('Raw path:', RawPath)\n",
    "\n",
    "ImgTrain = join(RawPath, 'train')\n",
    "ImgTest  = join(RawPath, 'test')\n",
    " \n",
    "csv_labels = join(RawPath, 'labels.csv')\n",
    "print(\"labsels.csv: '{}'\".format(csv_labels))\n",
    "\n",
    "ProcPath = r'D:\\GitWork\\dog_breed\\data\\processed'\n",
    "print('\\nProc path:', ProcPath)\n",
    "\n",
    "csv_breed_dict = join(ProcPath, 'breeds_dict.csv')\n",
    "print(\"breed_dict.csv: '{}'\".format(csv_breed_dict))\n",
    "\n",
    "csv_labels_processed = join(ProcPath, 'labels_processed.csv')\n",
    "\n",
    "# NUM_CLASSES_BREED = 16\n",
    "FRAC_FOR_TRAIN = 0.8"
   ]
  },
  {
   "cell_type": "code",
   "execution_count": 3,
   "metadata": {},
   "outputs": [
    {
     "name": "stdout",
     "output_type": "stream",
     "text": [
      "<class 'pandas.core.frame.DataFrame'>\n",
      "RangeIndex: 10222 entries, 0 to 10221\n",
      "Data columns (total 2 columns):\n",
      " #   Column  Non-Null Count  Dtype \n",
      "---  ------  --------------  ----- \n",
      " 0   id      10222 non-null  object\n",
      " 1   breed   10222 non-null  object\n",
      "dtypes: object(2)\n",
      "memory usage: 159.8+ KB\n",
      "None\n",
      "\n",
      "                                 id             breed\n",
      "0  000bec180eb18c7604dcecc8fe0dba07       boston_bull\n",
      "1  001513dfcb2ffafc82cccf4d8bbaba97             dingo\n",
      "2  001cdf01b096e06d78e9e5112d419397          pekinese\n",
      "3  00214f311d5d2247d5dfe4fe24b2303d          bluetick\n",
      "4  0021f9ceb3235effd7fcde7f7538ed62  golden_retriever\n"
     ]
    }
   ],
   "source": [
    "df_labels = pd.read_csv(csv_labels)\n",
    "\n",
    "print(df_labels.info())\n",
    "print(); print(df_labels.head())"
   ]
  },
  {
   "cell_type": "code",
   "execution_count": 4,
   "metadata": {},
   "outputs": [
    {
     "name": "stdout",
     "output_type": "stream",
     "text": [
      "\n",
      "                                     id                     breed\n",
      "0      000bec180eb18c7604dcecc8fe0dba07               boston_bull\n",
      "1      001513dfcb2ffafc82cccf4d8bbaba97                     dingo\n",
      "2      001cdf01b096e06d78e9e5112d419397                  pekinese\n",
      "3      00214f311d5d2247d5dfe4fe24b2303d                  bluetick\n",
      "4      0021f9ceb3235effd7fcde7f7538ed62          golden_retriever\n",
      "...                                 ...                       ...\n",
      "10217  ffd25009d635cfd16e793503ac5edef0                    borzoi\n",
      "10218  ffd3f636f7f379c51ba3648a9ff8254f            dandie_dinmont\n",
      "10219  ffe2ca6c940cddfee68fa3cc6c63213f                  airedale\n",
      "10220  ffe5f6d8e2bff356e9482a80a6e29aac        miniature_pinscher\n",
      "10221  fff43b07992508bc822f33d8ffd902ae  chesapeake_bay_retriever\n",
      "\n",
      "[10222 rows x 2 columns]\n",
      "\n",
      "                    breed  count  breed_id\n",
      "0      scottish_deerhound    126         1\n",
      "1             maltese_dog    117         2\n",
      "2            afghan_hound    116         3\n",
      "3             entlebucher    115         4\n",
      "4    bernese_mountain_dog    114         5\n",
      "..                    ...    ...       ...\n",
      "115      golden_retriever     67       116\n",
      "116     brabancon_griffon     67       117\n",
      "117              komondor     67       118\n",
      "118                briard     66       119\n",
      "119            eskimo_dog     66       120\n",
      "\n",
      "[120 rows x 3 columns]\n"
     ]
    }
   ],
   "source": [
    "# Create breed dictionary \n",
    "\n",
    "def getBreedDict(df):\n",
    "    df1 = df.groupby('breed').count().sort_values(by='id', ascending=False)\n",
    "    df1.insert(0, 'breed', df1.index)\n",
    "    df1 = df1.rename(columns={'id': 'count'})\n",
    "    df1 = df1.reset_index(drop=True)\n",
    "    df1['breed_id'] = df1.index + 1\n",
    "    return df1\n",
    "\n",
    "print(); print(df_labels)\n",
    "df_breedict = getBreedDict(df_labels)\n",
    "print(); print(df_breedict)\n",
    "\n",
    "# Save breed dict as csv file\n",
    "isExist = exists(csv_breed_dict)\n",
    "if not isExist:\n",
    "    df_breedict.to_csv(csv_breed_dict, index=False)\n",
    "else:\n",
    "    print('\\n{} exist.'.format(csv_breed_dict))"
   ]
  },
  {
   "cell_type": "code",
   "execution_count": 5,
   "metadata": {},
   "outputs": [
    {
     "name": "stdout",
     "output_type": "stream",
     "text": [
      "                                     id                     breed  breed_id\n",
      "0      000bec180eb18c7604dcecc8fe0dba07               boston_bull        43\n",
      "1      001513dfcb2ffafc82cccf4d8bbaba97                     dingo        73\n",
      "2      001cdf01b096e06d78e9e5112d419397                  pekinese        95\n",
      "3      00214f311d5d2247d5dfe4fe24b2303d                  bluetick        51\n",
      "4      0021f9ceb3235effd7fcde7f7538ed62          golden_retriever       116\n",
      "...                                 ...                       ...       ...\n",
      "10217  ffd25009d635cfd16e793503ac5edef0                    borzoi        94\n",
      "10218  ffd3f636f7f379c51ba3648a9ff8254f            dandie_dinmont        37\n",
      "10219  ffe2ca6c940cddfee68fa3cc6c63213f                  airedale        11\n",
      "10220  ffe5f6d8e2bff356e9482a80a6e29aac        miniature_pinscher        19\n",
      "10221  fff43b07992508bc822f33d8ffd902ae  chesapeake_bay_retriever        54\n",
      "\n",
      "[10222 rows x 3 columns]\n",
      "                                     id                     breed  breed_id  \\\n",
      "0      000bec180eb18c7604dcecc8fe0dba07               boston_bull        43   \n",
      "1      001513dfcb2ffafc82cccf4d8bbaba97                     dingo        73   \n",
      "2      001cdf01b096e06d78e9e5112d419397                  pekinese        95   \n",
      "3      00214f311d5d2247d5dfe4fe24b2303d                  bluetick        51   \n",
      "4      0021f9ceb3235effd7fcde7f7538ed62          golden_retriever       116   \n",
      "...                                 ...                       ...       ...   \n",
      "10217  ffd25009d635cfd16e793503ac5edef0                    borzoi        94   \n",
      "10218  ffd3f636f7f379c51ba3648a9ff8254f            dandie_dinmont        37   \n",
      "10219  ffe2ca6c940cddfee68fa3cc6c63213f                  airedale        11   \n",
      "10220  ffe5f6d8e2bff356e9482a80a6e29aac        miniature_pinscher        19   \n",
      "10221  fff43b07992508bc822f33d8ffd902ae  chesapeake_bay_retriever        54   \n",
      "\n",
      "                                                   image  \n",
      "0      D:\\GitWork\\dog_breed\\data\\raw\\train\\000bec180e...  \n",
      "1      D:\\GitWork\\dog_breed\\data\\raw\\train\\001513dfcb...  \n",
      "2      D:\\GitWork\\dog_breed\\data\\raw\\train\\001cdf01b0...  \n",
      "3      D:\\GitWork\\dog_breed\\data\\raw\\train\\00214f311d...  \n",
      "4      D:\\GitWork\\dog_breed\\data\\raw\\train\\0021f9ceb3...  \n",
      "...                                                  ...  \n",
      "10217  D:\\GitWork\\dog_breed\\data\\raw\\train\\ffd25009d6...  \n",
      "10218  D:\\GitWork\\dog_breed\\data\\raw\\train\\ffd3f636f7...  \n",
      "10219  D:\\GitWork\\dog_breed\\data\\raw\\train\\ffe2ca6c94...  \n",
      "10220  D:\\GitWork\\dog_breed\\data\\raw\\train\\ffe5f6d8e2...  \n",
      "10221  D:\\GitWork\\dog_breed\\data\\raw\\train\\fff43b0799...  \n",
      "\n",
      "[10222 rows x 4 columns]\n"
     ]
    }
   ],
   "source": [
    "# Process labels\n",
    "\n",
    "mapping = dict(df_breedict[['breed', 'breed_id']].values)\n",
    "df_labels['breed_id'] = df_labels.breed.map(mapping)\n",
    "print(df_labels)\n",
    "\n",
    "# Verify image exist or not accaording to id\n",
    "def id2ImgPath(path, ext='.jpg'):\n",
    "    return (\n",
    "        lambda f: join(path, f+ext) if exists(join(path, f+ext)) else None\n",
    "    )\n",
    "\n",
    "id2imgP = id2ImgPath(join(RawPath, 'train'))\n",
    "\n",
    "SersId = Series.to_numpy(df_labels['id'])\n",
    "df_labels['image'] = [id2imgP(v) for v in SersId]\n",
    "print(df_labels)\n",
    "\n",
    "# Save processed labels \n",
    "isExist = exists(csv_labels_processed)\n",
    "if not isExist:\n",
    "    df_labels.to_csv(csv_labels_processed, index=False)\n",
    "else:\n",
    "    print('\\n{} exist.'.format(csv_labels_processed))"
   ]
  },
  {
   "cell_type": "code",
   "execution_count": 6,
   "metadata": {},
   "outputs": [
    {
     "name": "stdout",
     "output_type": "stream",
     "text": [
      "data len: 10222\n",
      "\n",
      "Train size: img(8177), lbl(8177)\n",
      "Valid size: img(2045), lbl(2045)\n",
      "\n",
      "Train images:\n",
      "D:\\GitWork\\dog_breed\\data\\raw\\train\\000bec180eb18c7604dcecc8fe0dba07.jpg\n",
      "D:\\GitWork\\dog_breed\\data\\raw\\train\\001513dfcb2ffafc82cccf4d8bbaba97.jpg\n",
      "D:\\GitWork\\dog_breed\\data\\raw\\train\\001cdf01b096e06d78e9e5112d419397.jpg\n",
      "D:\\GitWork\\dog_breed\\data\\raw\\train\\00214f311d5d2247d5dfe4fe24b2303d.jpg\n",
      "D:\\GitWork\\dog_breed\\data\\raw\\train\\0021f9ceb3235effd7fcde7f7538ed62.jpg\n",
      "D:\\GitWork\\dog_breed\\data\\raw\\train\\002211c81b498ef88e1b40b9abf84e1d.jpg\n",
      "D:\\GitWork\\dog_breed\\data\\raw\\train\\00290d3e1fdd27226ba27a8ce248ce85.jpg\n",
      "D:\\GitWork\\dog_breed\\data\\raw\\train\\002a283a315af96eaea0e28e7163b21b.jpg\n",
      "D:\\GitWork\\dog_breed\\data\\raw\\train\\003df8b8a8b05244b1d920bb6cf451f9.jpg\n",
      "D:\\GitWork\\dog_breed\\data\\raw\\train\\0042188c895a2f14ef64a918ed9c7b64.jpg\n",
      "\n",
      "Valid images:\n",
      "D:\\GitWork\\dog_breed\\data\\raw\\train\\cc93915e06bc55626a02af95006a48c2.jpg\n",
      "D:\\GitWork\\dog_breed\\data\\raw\\train\\cc964d3bf1e317c9fbb0c0d4c8bc6b8f.jpg\n",
      "D:\\GitWork\\dog_breed\\data\\raw\\train\\cc97041986abdb8566a3ed4317f40c27.jpg\n",
      "D:\\GitWork\\dog_breed\\data\\raw\\train\\cc99de39a169a9aebaf34d4a514e266b.jpg\n",
      "D:\\GitWork\\dog_breed\\data\\raw\\train\\cc9b4190a7063f8e92dd21ff25152643.jpg\n",
      "D:\\GitWork\\dog_breed\\data\\raw\\train\\cca773094173965bbd04f829eea6eec7.jpg\n",
      "D:\\GitWork\\dog_breed\\data\\raw\\train\\ccb296c8257649527e45affde75d331d.jpg\n",
      "D:\\GitWork\\dog_breed\\data\\raw\\train\\ccb75b5d00281575fe98f1d56d23d7a9.jpg\n",
      "D:\\GitWork\\dog_breed\\data\\raw\\train\\ccbf2d7da8e85a3b60eb0ff8a87af58f.jpg\n",
      "D:\\GitWork\\dog_breed\\data\\raw\\train\\ccc369e93d792e44329a5f13ae6ae582.jpg\n",
      "\n",
      "Train labels: [43, 73, 95, 51, 116, 36, 36, 94, 9, 1]\n",
      "\n",
      "Valid labels: [38, 61, 84, 23, 34, 33, 110, 6, 11, 7]\n"
     ]
    }
   ],
   "source": [
    "# Split dataframe to two part \n",
    "\n",
    "df_rows = df_labels.shape[0]\n",
    "print('data len:', df_rows)\n",
    "\n",
    "train_len = int(float(FRAC_FOR_TRAIN) * float(df_rows))\n",
    "# print('Train len: ', train_len)\n",
    "\n",
    "train_imgs = df_labels['image'][:train_len]\n",
    "valid_imgs = df_labels['image'][train_len:]\n",
    "\n",
    "train_lbls = df_labels['breed_id'][:train_len]\n",
    "valid_lbls = df_labels['breed_id'][train_len:]\n",
    "\n",
    "print('\\nTrain size: img({}), lbl({})'.format(len(train_imgs), len(train_lbls)))\n",
    "print('Valid size: img({}), lbl({})'.format(len(valid_imgs), len(valid_lbls)))\n",
    "\n",
    "\n",
    "def showTopN(array, title=None, num=10):\n",
    "    if title: print('\\n{}:'.format(title))\n",
    "    print('\\n'.join(array[:num]))\n",
    "    return\n",
    "\n",
    "showTopN(train_imgs, 'Train images')\n",
    "showTopN(valid_imgs, 'Valid images')\n",
    "\n",
    "print('\\nTrain labels:', list(train_lbls[:10]))\n",
    "print('\\nValid labels:', list(valid_lbls[:10]))\n"
   ]
  },
  {
   "cell_type": "code",
   "execution_count": 7,
   "metadata": {},
   "outputs": [
    {
     "name": "stdout",
     "output_type": "stream",
     "text": [
      "Process start...\n",
      "'D:\\GitWork\\dog_breed\\data\\processed\\train_images.npy' processing...\n",
      "'D:\\GitWork\\dog_breed\\data\\processed\\valid_images.npy' processing...\n",
      "'D:\\GitWork\\dog_breed\\data\\processed\\train_labels.npy' processing...\n",
      "'D:\\GitWork\\dog_breed\\data\\processed\\valid_labels.npy' processing...\n",
      "Process end.\n"
     ]
    }
   ],
   "source": [
    "# Save numpy array as .npy file\n",
    "\n",
    "phase = ['train', 'valid']\n",
    "types = ['images', 'labels']\n",
    "\n",
    "fname = ['{}_{}.npy'.format(y, x) for x in types for y in phase]\n",
    "data = [train_imgs, valid_imgs, train_lbls, valid_lbls]\n",
    "\n",
    "print('Process start...')\n",
    "for i in range(len(fname)):\n",
    "    f_abspath = join(ProcPath, fname[i])\n",
    "    print(\"'{}' processing...\".format(f_abspath))\n",
    "    np.save(f_abspath, data[i])\n",
    "print('Process end.')"
   ]
  },
  {
   "cell_type": "code",
   "execution_count": null,
   "metadata": {},
   "outputs": [],
   "source": []
  }
 ],
 "metadata": {
  "kernelspec": {
   "display_name": "Python 3",
   "language": "python",
   "name": "python3"
  },
  "language_info": {
   "codemirror_mode": {
    "name": "ipython",
    "version": 3
   },
   "file_extension": ".py",
   "mimetype": "text/x-python",
   "name": "python",
   "nbconvert_exporter": "python",
   "pygments_lexer": "ipython3",
   "version": "3.7.7"
  }
 },
 "nbformat": 4,
 "nbformat_minor": 4
}
