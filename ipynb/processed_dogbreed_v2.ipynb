{
 "cells": [
  {
   "cell_type": "code",
   "execution_count": 1,
   "metadata": {},
   "outputs": [
    {
     "name": "stdout",
     "output_type": "stream",
     "text": [
      "torch:  1.5.1\n",
      "torchvision:  0.6.1\n"
     ]
    }
   ],
   "source": [
    "# Kaggle: https://www.kaggle.com/c/dog-breed-identification\n",
    "# Author: Morpheus Hsieh\n",
    "\n",
    "from __future__ import print_function, division\n",
    "\n",
    "import json\n",
    "import matplotlib.pyplot as plt\n",
    "import numpy as np\n",
    "import pandas as pd\n",
    "from PIL import Image\n",
    "from pandas import Series, DataFrame\n",
    "from os.path import join, exists\n",
    "\n",
    "import torch\n",
    "from torch.utils.data import Dataset, DataLoader\n",
    "\n",
    "import torchvision\n",
    "from torchvision import datasets, models, transforms, utils\n",
    "\n",
    "print('torch: ', torch.__version__)\n",
    "print('torchvision: ', torchvision.__version__)"
   ]
  },
  {
   "cell_type": "code",
   "execution_count": 2,
   "metadata": {},
   "outputs": [
    {
     "name": "stdout",
     "output_type": "stream",
     "text": [
      "Raw path: D:\\GitWork\\dog_breed\\data\\raw\n",
      "\n",
      "Proc path: D:\\GitWork\\dog_breed\\data\\processed\n",
      "labsels.csv: 'D:\\GitWork\\dog_breed\\data\\raw\\labels.csv'\n",
      "breeds_processed.csv: 'D:\\GitWork\\dog_breed\\data\\processed\\breeds_processed.csv'\n",
      "labels_processed.csv: 'D:\\GitWork\\dog_breed\\data\\processed\\labels_processed.csv'\n"
     ]
    }
   ],
   "source": [
    "RawPath = r'D:\\GitWork\\dog_breed\\data\\raw'\n",
    "print('Raw path:', RawPath)\n",
    "\n",
    "TrainPath = join(RawPath, 'train')\n",
    "TestPath  = join(RawPath, 'test')\n",
    " \n",
    "ProcPath = r'D:\\GitWork\\dog_breed\\data\\processed'\n",
    "print('\\nProc path:', ProcPath)\n",
    "\n",
    "csv_labels = 'labels.csv'\n",
    "lbls_abspath = join(RawPath, csv_labels)\n",
    "print(\"labsels.csv: '{}'\".format(lbls_abspath))\n",
    "\n",
    "csv_bd_proc = 'breeds_processed.csv'\n",
    "bd_proc_abspath = join(ProcPath, csv_bd_proc)\n",
    "print(\"{}: '{}'\".format(csv_bd_proc, bd_proc_abspath))\n",
    "\n",
    "csv_lbls_proc = 'labels_processed.csv'\n",
    "lbls_proc_abspath = join(ProcPath, csv_lbls_proc)\n",
    "print(\"{}: '{}'\".format(csv_lbls_proc, lbls_proc_abspath))\n",
    "\n",
    "# NUM_CLASSES_BREED = 16\n",
    "FRAC_FOR_TRAIN = 0.8"
   ]
  },
  {
   "cell_type": "code",
   "execution_count": 3,
   "metadata": {},
   "outputs": [
    {
     "name": "stdout",
     "output_type": "stream",
     "text": [
      "<class 'pandas.core.frame.DataFrame'>\n",
      "RangeIndex: 10222 entries, 0 to 10221\n",
      "Data columns (total 2 columns):\n",
      " #   Column  Non-Null Count  Dtype \n",
      "---  ------  --------------  ----- \n",
      " 0   id      10222 non-null  object\n",
      " 1   breed   10222 non-null  object\n",
      "dtypes: object(2)\n",
      "memory usage: 159.8+ KB\n",
      "None\n",
      "                                 id             breed\n",
      "0  000bec180eb18c7604dcecc8fe0dba07       boston_bull\n",
      "1  001513dfcb2ffafc82cccf4d8bbaba97             dingo\n",
      "2  001cdf01b096e06d78e9e5112d419397          pekinese\n",
      "3  00214f311d5d2247d5dfe4fe24b2303d          bluetick\n",
      "4  0021f9ceb3235effd7fcde7f7538ed62  golden_retriever\n"
     ]
    }
   ],
   "source": [
    "df_labels = pd.read_csv(lbls_abspath)\n",
    "\n",
    "print(df_labels.info())\n",
    "print(df_labels.head())"
   ]
  },
  {
   "cell_type": "code",
   "execution_count": 4,
   "metadata": {},
   "outputs": [
    {
     "name": "stdout",
     "output_type": "stream",
     "text": [
      "\n",
      "                                     id                     breed\n",
      "0      000bec180eb18c7604dcecc8fe0dba07               boston_bull\n",
      "1      001513dfcb2ffafc82cccf4d8bbaba97                     dingo\n",
      "2      001cdf01b096e06d78e9e5112d419397                  pekinese\n",
      "3      00214f311d5d2247d5dfe4fe24b2303d                  bluetick\n",
      "4      0021f9ceb3235effd7fcde7f7538ed62          golden_retriever\n",
      "...                                 ...                       ...\n",
      "10217  ffd25009d635cfd16e793503ac5edef0                    borzoi\n",
      "10218  ffd3f636f7f379c51ba3648a9ff8254f            dandie_dinmont\n",
      "10219  ffe2ca6c940cddfee68fa3cc6c63213f                  airedale\n",
      "10220  ffe5f6d8e2bff356e9482a80a6e29aac        miniature_pinscher\n",
      "10221  fff43b07992508bc822f33d8ffd902ae  chesapeake_bay_retriever\n",
      "\n",
      "[10222 rows x 2 columns]\n",
      "\n",
      "                    breed  count  breed_id\n",
      "0      scottish_deerhound    126         0\n",
      "1             maltese_dog    117         1\n",
      "2            afghan_hound    116         2\n",
      "3             entlebucher    115         3\n",
      "4    bernese_mountain_dog    114         4\n",
      "..                    ...    ...       ...\n",
      "115      golden_retriever     67       115\n",
      "116     brabancon_griffon     67       116\n",
      "117              komondor     67       117\n",
      "118                briard     66       118\n",
      "119            eskimo_dog     66       119\n",
      "\n",
      "[120 rows x 3 columns]\n"
     ]
    }
   ],
   "source": [
    "# Create breed dictionary \n",
    "\n",
    "def getBreedDict(df):\n",
    "    df1 = df.groupby('breed').count().sort_values(by='id', ascending=False)\n",
    "    df1.insert(0, 'breed', df1.index)\n",
    "    df1 = df1.rename(columns={'id': 'count'})\n",
    "    df1 = df1.reset_index(drop=True)\n",
    "    df1['breed_id'] = df1.index\n",
    "    return df1\n",
    "\n",
    "print(); print(df_labels)\n",
    "df_breedict = getBreedDict(df_labels)\n",
    "print(); print(df_breedict)\n",
    "\n",
    "# Save breed dict as csv file\n",
    "isExist = exists(bd_proc_abspath)\n",
    "if not isExist:\n",
    "    df_breedict.to_csv(bd_proc_abspath, index=False)\n",
    "else:\n",
    "    print('\\n{} exist.'.format(bd_proc_abspath))"
   ]
  },
  {
   "cell_type": "code",
   "execution_count": 5,
   "metadata": {},
   "outputs": [
    {
     "name": "stdout",
     "output_type": "stream",
     "text": [
      "                                     id                     breed  breed_id\n",
      "0      000bec180eb18c7604dcecc8fe0dba07               boston_bull        42\n",
      "1      001513dfcb2ffafc82cccf4d8bbaba97                     dingo        72\n",
      "2      001cdf01b096e06d78e9e5112d419397                  pekinese        94\n",
      "3      00214f311d5d2247d5dfe4fe24b2303d                  bluetick        50\n",
      "4      0021f9ceb3235effd7fcde7f7538ed62          golden_retriever       115\n",
      "...                                 ...                       ...       ...\n",
      "10217  ffd25009d635cfd16e793503ac5edef0                    borzoi        93\n",
      "10218  ffd3f636f7f379c51ba3648a9ff8254f            dandie_dinmont        36\n",
      "10219  ffe2ca6c940cddfee68fa3cc6c63213f                  airedale        10\n",
      "10220  ffe5f6d8e2bff356e9482a80a6e29aac        miniature_pinscher        18\n",
      "10221  fff43b07992508bc822f33d8ffd902ae  chesapeake_bay_retriever        53\n",
      "\n",
      "[10222 rows x 3 columns]\n",
      "                                     id                     breed  breed_id  \\\n",
      "0      000bec180eb18c7604dcecc8fe0dba07               boston_bull        42   \n",
      "1      001513dfcb2ffafc82cccf4d8bbaba97                     dingo        72   \n",
      "2      001cdf01b096e06d78e9e5112d419397                  pekinese        94   \n",
      "3      00214f311d5d2247d5dfe4fe24b2303d                  bluetick        50   \n",
      "4      0021f9ceb3235effd7fcde7f7538ed62          golden_retriever       115   \n",
      "...                                 ...                       ...       ...   \n",
      "10217  ffd25009d635cfd16e793503ac5edef0                    borzoi        93   \n",
      "10218  ffd3f636f7f379c51ba3648a9ff8254f            dandie_dinmont        36   \n",
      "10219  ffe2ca6c940cddfee68fa3cc6c63213f                  airedale        10   \n",
      "10220  ffe5f6d8e2bff356e9482a80a6e29aac        miniature_pinscher        18   \n",
      "10221  fff43b07992508bc822f33d8ffd902ae  chesapeake_bay_retriever        53   \n",
      "\n",
      "                                                   image  \n",
      "0      D:\\GitWork\\dog_breed\\data\\raw\\train\\000bec180e...  \n",
      "1      D:\\GitWork\\dog_breed\\data\\raw\\train\\001513dfcb...  \n",
      "2      D:\\GitWork\\dog_breed\\data\\raw\\train\\001cdf01b0...  \n",
      "3      D:\\GitWork\\dog_breed\\data\\raw\\train\\00214f311d...  \n",
      "4      D:\\GitWork\\dog_breed\\data\\raw\\train\\0021f9ceb3...  \n",
      "...                                                  ...  \n",
      "10217  D:\\GitWork\\dog_breed\\data\\raw\\train\\ffd25009d6...  \n",
      "10218  D:\\GitWork\\dog_breed\\data\\raw\\train\\ffd3f636f7...  \n",
      "10219  D:\\GitWork\\dog_breed\\data\\raw\\train\\ffe2ca6c94...  \n",
      "10220  D:\\GitWork\\dog_breed\\data\\raw\\train\\ffe5f6d8e2...  \n",
      "10221  D:\\GitWork\\dog_breed\\data\\raw\\train\\fff43b0799...  \n",
      "\n",
      "[10222 rows x 4 columns]\n"
     ]
    }
   ],
   "source": [
    "# Process labels\n",
    "\n",
    "mapping = dict(df_breedict[['breed', 'breed_id']].values)\n",
    "df_labels['breed_id'] = df_labels.breed.map(mapping)\n",
    "print(df_labels)\n",
    "\n",
    "# Verify image exist or not accaording to id\n",
    "def id2ImgPath(path, ext='.jpg'):\n",
    "    return (\n",
    "        lambda f: join(path, f+ext) if exists(join(path, f+ext)) else None\n",
    "    )\n",
    "\n",
    "id2imgP = id2ImgPath(join(RawPath, 'train'))\n",
    "\n",
    "SersId = Series.to_numpy(df_labels['id'])\n",
    "df_labels['image'] = [id2imgP(v) for v in SersId]\n",
    "print(df_labels)\n",
    "\n",
    "# Save processed labels \n",
    "isExist = exists(lbls_proc_abspath)\n",
    "if not isExist:\n",
    "    df_labels.to_csv(lbls_proc_abspath, index=False)\n",
    "else:\n",
    "    print('\\n{} exist.'.format(lbls_proc_abspath))"
   ]
  },
  {
   "cell_type": "code",
   "execution_count": 6,
   "metadata": {},
   "outputs": [
    {
     "name": "stdout",
     "output_type": "stream",
     "text": [
      "data len: 10222\n",
      "\n",
      "Train size: img(8177), lbl(8177)\n",
      "Valid size: img(2045), lbl(2045)\n",
      "\n",
      "Train images:\n",
      "D:\\GitWork\\dog_breed\\data\\raw\\train\\000bec180eb18c7604dcecc8fe0dba07.jpg\n",
      "D:\\GitWork\\dog_breed\\data\\raw\\train\\001513dfcb2ffafc82cccf4d8bbaba97.jpg\n",
      "D:\\GitWork\\dog_breed\\data\\raw\\train\\001cdf01b096e06d78e9e5112d419397.jpg\n",
      "D:\\GitWork\\dog_breed\\data\\raw\\train\\00214f311d5d2247d5dfe4fe24b2303d.jpg\n",
      "D:\\GitWork\\dog_breed\\data\\raw\\train\\0021f9ceb3235effd7fcde7f7538ed62.jpg\n",
      "D:\\GitWork\\dog_breed\\data\\raw\\train\\002211c81b498ef88e1b40b9abf84e1d.jpg\n",
      "D:\\GitWork\\dog_breed\\data\\raw\\train\\00290d3e1fdd27226ba27a8ce248ce85.jpg\n",
      "D:\\GitWork\\dog_breed\\data\\raw\\train\\002a283a315af96eaea0e28e7163b21b.jpg\n",
      "D:\\GitWork\\dog_breed\\data\\raw\\train\\003df8b8a8b05244b1d920bb6cf451f9.jpg\n",
      "D:\\GitWork\\dog_breed\\data\\raw\\train\\0042188c895a2f14ef64a918ed9c7b64.jpg\n",
      "\n",
      "Valid images:\n",
      "D:\\GitWork\\dog_breed\\data\\raw\\train\\cc93915e06bc55626a02af95006a48c2.jpg\n",
      "D:\\GitWork\\dog_breed\\data\\raw\\train\\cc964d3bf1e317c9fbb0c0d4c8bc6b8f.jpg\n",
      "D:\\GitWork\\dog_breed\\data\\raw\\train\\cc97041986abdb8566a3ed4317f40c27.jpg\n",
      "D:\\GitWork\\dog_breed\\data\\raw\\train\\cc99de39a169a9aebaf34d4a514e266b.jpg\n",
      "D:\\GitWork\\dog_breed\\data\\raw\\train\\cc9b4190a7063f8e92dd21ff25152643.jpg\n",
      "D:\\GitWork\\dog_breed\\data\\raw\\train\\cca773094173965bbd04f829eea6eec7.jpg\n",
      "D:\\GitWork\\dog_breed\\data\\raw\\train\\ccb296c8257649527e45affde75d331d.jpg\n",
      "D:\\GitWork\\dog_breed\\data\\raw\\train\\ccb75b5d00281575fe98f1d56d23d7a9.jpg\n",
      "D:\\GitWork\\dog_breed\\data\\raw\\train\\ccbf2d7da8e85a3b60eb0ff8a87af58f.jpg\n",
      "D:\\GitWork\\dog_breed\\data\\raw\\train\\ccc369e93d792e44329a5f13ae6ae582.jpg\n",
      "\n",
      "Train labels: [42, 72, 94, 50, 115, 35, 35, 93, 8, 0]\n",
      "\n",
      "Valid labels: [37, 60, 83, 22, 33, 32, 109, 5, 10, 6]\n"
     ]
    }
   ],
   "source": [
    "# Split dataframe to two part \n",
    "\n",
    "df_rows = df_labels.shape[0]\n",
    "print('data len:', df_rows)\n",
    "\n",
    "train_len = int(float(FRAC_FOR_TRAIN) * float(df_rows))\n",
    "# print('Train len: ', train_len)\n",
    "\n",
    "train_imgs = df_labels['image'][:train_len]\n",
    "valid_imgs = df_labels['image'][train_len:]\n",
    "\n",
    "train_lbls = df_labels['breed_id'][:train_len]\n",
    "valid_lbls = df_labels['breed_id'][train_len:]\n",
    "\n",
    "print('\\nTrain size: img({}), lbl({})'.format(len(train_imgs), len(train_lbls)))\n",
    "print('Valid size: img({}), lbl({})'.format(len(valid_imgs), len(valid_lbls)))\n",
    "\n",
    "\n",
    "def showTopN(array, title=None, num=10):\n",
    "    if title: print('\\n{}:'.format(title))\n",
    "    print('\\n'.join(array[:num]))\n",
    "    return\n",
    "\n",
    "showTopN(train_imgs, 'Train images')\n",
    "showTopN(valid_imgs, 'Valid images')\n",
    "\n",
    "print('\\nTrain labels:', list(train_lbls[:10]))\n",
    "print('\\nValid labels:', list(valid_lbls[:10]))\n"
   ]
  },
  {
   "cell_type": "code",
   "execution_count": 7,
   "metadata": {},
   "outputs": [
    {
     "name": "stdout",
     "output_type": "stream",
     "text": [
      "Process start...\n",
      "'D:\\GitWork\\dog_breed\\data\\processed\\train_data.npz' processing...\n",
      "'D:\\GitWork\\dog_breed\\data\\processed\\valid_data.npz' processing...\n",
      "Process end.\n"
     ]
    }
   ],
   "source": [
    "# Save numpy array as .npy file\n",
    "\n",
    "phase = ['train', 'valid']\n",
    "types = ['images', 'labels']\n",
    "\n",
    "fnames = ['{}_data.npz'.format(x) for x in phase]\n",
    "data = [[train_imgs, train_lbls], [valid_imgs, valid_lbls]]\n",
    "\n",
    "print('Process start...')\n",
    "for i in range(len(fnames)):\n",
    "    f_abspath = join(ProcPath, fnames[i])\n",
    "    print(\"'{}' processing...\".format(f_abspath))\n",
    "    args = { types[0]: data[i][0], types[1]: data[i][1] }\n",
    "    np.savez(f_abspath, **args)\n",
    "print('Process end.')"
   ]
  },
  {
   "cell_type": "code",
   "execution_count": 8,
   "metadata": {},
   "outputs": [
    {
     "name": "stdout",
     "output_type": "stream",
     "text": [
      "images:\n",
      "['D:\\\\GitWork\\\\dog_breed\\\\data\\\\raw\\\\train\\\\000bec180eb18c7604dcecc8fe0dba07.jpg'\n",
      " 'D:\\\\GitWork\\\\dog_breed\\\\data\\\\raw\\\\train\\\\001513dfcb2ffafc82cccf4d8bbaba97.jpg'\n",
      " 'D:\\\\GitWork\\\\dog_breed\\\\data\\\\raw\\\\train\\\\001cdf01b096e06d78e9e5112d419397.jpg'\n",
      " ...\n",
      " 'D:\\\\GitWork\\\\dog_breed\\\\data\\\\raw\\\\train\\\\cc7ae3da3bebcc4acb10128078cdf29a.jpg'\n",
      " 'D:\\\\GitWork\\\\dog_breed\\\\data\\\\raw\\\\train\\\\cc7af1c37c65fee4e036571c7f5b55f9.jpg'\n",
      " 'D:\\\\GitWork\\\\dog_breed\\\\data\\\\raw\\\\train\\\\cc8ec46c8c1ff5337ac636a9c21abcc2.jpg']\n",
      "\n",
      "labels:\n",
      "[ 42  72  94 ... 109  64  22]\n",
      "\n"
     ]
    }
   ],
   "source": [
    "laod_data = np.load(join(ProcPath, fnames[0]), allow_pickle=True)\n",
    "\n",
    "for t in types:\n",
    "    print('{}:'.format(t))\n",
    "    print(laod_data[t])\n",
    "    print()"
   ]
  },
  {
   "cell_type": "code",
   "execution_count": null,
   "metadata": {},
   "outputs": [],
   "source": []
  }
 ],
 "metadata": {
  "kernelspec": {
   "display_name": "Python 3",
   "language": "python",
   "name": "python3"
  },
  "language_info": {
   "codemirror_mode": {
    "name": "ipython",
    "version": 3
   },
   "file_extension": ".py",
   "mimetype": "text/x-python",
   "name": "python",
   "nbconvert_exporter": "python",
   "pygments_lexer": "ipython3",
   "version": "3.7.7"
  }
 },
 "nbformat": 4,
 "nbformat_minor": 4
}
