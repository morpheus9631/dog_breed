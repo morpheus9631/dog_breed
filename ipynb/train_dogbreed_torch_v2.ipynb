{
 "cells": [
  {
   "cell_type": "code",
   "execution_count": 1,
   "metadata": {},
   "outputs": [],
   "source": [
    "# From: https://www.kaggle.com/c/dog-breed-identification/data\n",
    "# Author: Morpheus Hsieh\n",
    "\n",
    "from __future__ import print_function, division\n",
    "\n",
    "import os, sys\n",
    "import matplotlib.pyplot as plt\n",
    "import numpy as np\n",
    "import pandas as pd\n",
    "from PIL import Image\n",
    "\n",
    "import torch\n",
    "from torch.utils.data import Dataset, DataLoader\n",
    "\n",
    "import torchvision\n",
    "from torchvision import datasets, models, transforms, utils\n"
   ]
  },
  {
   "cell_type": "code",
   "execution_count": 2,
   "metadata": {},
   "outputs": [
    {
     "name": "stdout",
     "output_type": "stream",
     "text": [
      "Raw path: 'D:\\GitWork\\dog_breed\\data\\raw'\n",
      "Processed path: 'D:\\GitWork\\dog_breed\\data\\processed'\n"
     ]
    }
   ],
   "source": [
    "RawPath = r'D:\\GitWork\\dog_breed\\data\\raw'\n",
    "print(\"Raw path: '{}'\".format(RawPath))\n",
    "\n",
    "ProcPath = r'D:\\GitWork\\dog_breed\\data\\processed'\n",
    "print(\"Processed path: '{}'\".format(ProcPath))\n",
    "\n",
    "BatchSize = 10\n",
    "\n",
    "Phase = ['train', 'valid']"
   ]
  },
  {
   "cell_type": "code",
   "execution_count": null,
   "metadata": {},
   "outputs": [],
   "source": [
    "# Create breed dictionary backward\n",
    "proc_csv_abspath = os.path.join(ProcPath, 'processed_labels.csv')\n",
    "df = pd.read_csv(proc_csv_abspath)\n",
    "breeds\n",
    "\n"
   ]
  },
  {
   "cell_type": "code",
   "execution_count": 6,
   "metadata": {},
   "outputs": [
    {
     "name": "stdout",
     "output_type": "stream",
     "text": [
      "\n",
      "TrainSet size:  8177\n",
      "ValidSet size:  2045\n",
      "\n",
      "TrainLoader size:  818\n",
      "ValidLoader size:  205\n",
      "\n",
      "Image type:  <class 'torch.Tensor'>\n",
      "      size:  torch.Size([10, 3, 224, 224])\n",
      "\n",
      "Label type:  <class 'torch.Tensor'>\n",
      "      size:  torch.Size([10])\n",
      "\n",
      "Image:  torch.Size([3, 224, 224])\n",
      "\n",
      "tensor([[[ 1.0844,  0.9303,  0.7591,  ..., -0.0801, -0.2684, -0.2513],\n",
      "         [ 1.2214,  0.6906,  0.5364,  ..., -0.0116,  0.0227, -0.0972],\n",
      "         [-0.3198, -0.6281, -0.8849,  ..., -0.0972, -0.2513, -0.1657],\n",
      "         ...,\n",
      "         [ 0.1083,  0.5536,  0.0056,  ...,  1.5297,  1.1358,  1.1529],\n",
      "         [ 0.3652,  0.4851,  0.0227,  ...,  0.9474,  0.2282, -0.3027],\n",
      "         [-0.1999, -0.5596, -0.8849,  ...,  0.3994, -0.2513, -0.3198]],\n",
      "\n",
      "        [[ 0.6779,  0.5203,  0.3627,  ..., -0.0224, -0.1625, -0.1275],\n",
      "         [ 0.9930,  0.4853,  0.3627,  ...,  0.0651,  0.1352,  0.0126],\n",
      "         [-0.2850, -0.5826, -0.8277,  ..., -0.0049, -0.1625, -0.0574],\n",
      "         ...,\n",
      "         [ 0.2927,  0.4678, -0.1975,  ...,  1.1155,  0.6604,  0.6604],\n",
      "         [ 0.6604,  0.4503, -0.1800,  ...,  0.5553,  0.6429,  0.3627],\n",
      "         [ 0.2227, -0.5826, -1.1253,  ...,  0.0126,  0.1176,  0.2752]],\n",
      "\n",
      "        [[ 0.3219,  0.1825,  0.0605,  ..., -0.4798, -0.6018, -0.5495],\n",
      "         [ 0.6705,  0.1476,  0.0605,  ..., -0.4450, -0.3230, -0.4275],\n",
      "         [-0.4798, -0.8458, -1.0724,  ..., -0.5670, -0.6541, -0.5495],\n",
      "         ...,\n",
      "         [-0.0790,  0.2173, -0.3578,  ...,  1.0714,  0.4439,  0.4091],\n",
      "         [ 0.2522,  0.1999, -0.3404,  ...,  0.4962,  0.1302, -0.2881],\n",
      "         [-0.2358, -0.7936, -1.2293,  ..., -0.0267, -0.3230, -0.3230]]])\n",
      "\n",
      "Label:  tensor([ 27,  92,  90,  30,  59,  19, 101,  56,   6,  10])\n"
     ]
    }
   ],
   "source": [
    "# Normalize\n",
    "normalize = transforms.Normalize(\n",
    "    mean = [0.485, 0.456, 0.406],\n",
    "    std  = [0.229, 0.224, 0.225]\n",
    ")\n",
    "\n",
    "# Transform\n",
    "transform = transforms.Compose([\n",
    "    transforms.Resize((224,224)),\n",
    "    transforms.ToTensor(),\n",
    "    normalize\n",
    "])\n",
    "\n",
    "class myDataset(Dataset):\n",
    "    \n",
    "    def __init__(self, path, phase='train', transform=None):\n",
    "        npy_types = ['images', 'labels']\n",
    "        npy_files = ['{}_{}.npy'.format(phase, x) for x in npy_types]\n",
    "        \n",
    "        self.images = np.load(os.path.join(path, npy_files[0]))\n",
    "        self.labels = np.load(os.path.join(path, npy_files[1]))\n",
    "\n",
    "        self.transform = transform\n",
    "        self.len = len(self.images)\n",
    "\n",
    "    def __getitem__(self, index):\n",
    "        img_path = self.images[index]\n",
    "        img_pil = Image.open(img_path)\n",
    "\n",
    "        if self.transform is not None:\n",
    "            img = self.transform(img_pil)\n",
    "\n",
    "        lbl = int(self.labels[index])\n",
    "        \n",
    "        return (img, lbl)\n",
    "\n",
    "    def __len__(self):\n",
    "        return self.len\n",
    "\n",
    "    \n",
    "trainSet = myDataset(ProcPath, transform=transform)\n",
    "validSet = myDataset(ProcPath, phase='valid', transform=transform)\n",
    "print('\\nTrainSet size: ', len(trainSet))\n",
    "print('ValidSet size: ', len(validSet))\n",
    "\n",
    "trainLoader = DataLoader(trainSet, batch_size=BatchSize, shuffle=True)\n",
    "validLoader = DataLoader(validSet, batch_size=BatchSize, shuffle=False)\n",
    "print('\\nTrainLoader size: ', len(trainLoader))\n",
    "print('ValidLoader size: ', len(validLoader))\n",
    "\n",
    "imgs, lbls = next(iter(trainLoader))\n",
    "\n",
    "print('\\nImage type: ', type(imgs))\n",
    "print('      size: ', imgs.size())\n",
    "\n",
    "print('\\nLabel type: ', type(lbls))\n",
    "print('      size: ', lbls.size())\n",
    "\n",
    "img = imgs[0]\n",
    "print('\\nImage: ', img.shape)\n",
    "print(); print(img)\n",
    "\n",
    "print('\\nLabel: ', lbls)\n"
   ]
  },
  {
   "cell_type": "code",
   "execution_count": 7,
   "metadata": {},
   "outputs": [
    {
     "name": "stdout",
     "output_type": "stream",
     "text": [
      "train images shape:  torch.Size([6, 3, 224, 224])\n",
      "train labels shape:  torch.Size([6])\n"
     ]
    },
    {
     "ename": "NameError",
     "evalue": "name 'breed_dict_bw' is not defined",
     "output_type": "error",
     "traceback": [
      "\u001b[1;31m---------------------------------------------------------------------------\u001b[0m",
      "\u001b[1;31mNameError\u001b[0m                                 Traceback (most recent call last)",
      "\u001b[1;32m<ipython-input-7-ad71936de455>\u001b[0m in \u001b[0;36m<module>\u001b[1;34m\u001b[0m\n\u001b[0;32m     24\u001b[0m \u001b[0mout\u001b[0m \u001b[1;33m=\u001b[0m \u001b[0mtorchvision\u001b[0m\u001b[1;33m.\u001b[0m\u001b[0mutils\u001b[0m\u001b[1;33m.\u001b[0m\u001b[0mmake_grid\u001b[0m\u001b[1;33m(\u001b[0m\u001b[0mimages\u001b[0m\u001b[1;33m)\u001b[0m\u001b[1;33m\u001b[0m\u001b[1;33m\u001b[0m\u001b[0m\n\u001b[0;32m     25\u001b[0m \u001b[1;33m\u001b[0m\u001b[0m\n\u001b[1;32m---> 26\u001b[1;33m \u001b[0mimshow\u001b[0m\u001b[1;33m(\u001b[0m\u001b[0mout\u001b[0m\u001b[1;33m,\u001b[0m \u001b[0mtitle\u001b[0m\u001b[1;33m=\u001b[0m\u001b[1;33m[\u001b[0m\u001b[0mbreed_dict_bw\u001b[0m\u001b[1;33m.\u001b[0m\u001b[0mget\u001b[0m\u001b[1;33m(\u001b[0m\u001b[0mx\u001b[0m\u001b[1;33m.\u001b[0m\u001b[0mitem\u001b[0m\u001b[1;33m(\u001b[0m\u001b[1;33m)\u001b[0m\u001b[1;33m)\u001b[0m \u001b[1;32mfor\u001b[0m \u001b[0mx\u001b[0m \u001b[1;32min\u001b[0m \u001b[0mlabels\u001b[0m\u001b[1;33m]\u001b[0m\u001b[1;33m)\u001b[0m\u001b[1;33m\u001b[0m\u001b[1;33m\u001b[0m\u001b[0m\n\u001b[0m",
      "\u001b[1;32m<ipython-input-7-ad71936de455>\u001b[0m in \u001b[0;36m<listcomp>\u001b[1;34m(.0)\u001b[0m\n\u001b[0;32m     24\u001b[0m \u001b[0mout\u001b[0m \u001b[1;33m=\u001b[0m \u001b[0mtorchvision\u001b[0m\u001b[1;33m.\u001b[0m\u001b[0mutils\u001b[0m\u001b[1;33m.\u001b[0m\u001b[0mmake_grid\u001b[0m\u001b[1;33m(\u001b[0m\u001b[0mimages\u001b[0m\u001b[1;33m)\u001b[0m\u001b[1;33m\u001b[0m\u001b[1;33m\u001b[0m\u001b[0m\n\u001b[0;32m     25\u001b[0m \u001b[1;33m\u001b[0m\u001b[0m\n\u001b[1;32m---> 26\u001b[1;33m \u001b[0mimshow\u001b[0m\u001b[1;33m(\u001b[0m\u001b[0mout\u001b[0m\u001b[1;33m,\u001b[0m \u001b[0mtitle\u001b[0m\u001b[1;33m=\u001b[0m\u001b[1;33m[\u001b[0m\u001b[0mbreed_dict_bw\u001b[0m\u001b[1;33m.\u001b[0m\u001b[0mget\u001b[0m\u001b[1;33m(\u001b[0m\u001b[0mx\u001b[0m\u001b[1;33m.\u001b[0m\u001b[0mitem\u001b[0m\u001b[1;33m(\u001b[0m\u001b[1;33m)\u001b[0m\u001b[1;33m)\u001b[0m \u001b[1;32mfor\u001b[0m \u001b[0mx\u001b[0m \u001b[1;32min\u001b[0m \u001b[0mlabels\u001b[0m\u001b[1;33m]\u001b[0m\u001b[1;33m)\u001b[0m\u001b[1;33m\u001b[0m\u001b[1;33m\u001b[0m\u001b[0m\n\u001b[0m",
      "\u001b[1;31mNameError\u001b[0m: name 'breed_dict_bw' is not defined"
     ]
    }
   ],
   "source": [
    "# Imshow for Tensor\n",
    "def imshow(inp, title=None):\n",
    "    inp  = inp.numpy().transpose((1, 2, 0))\n",
    "    mean = np.array([0.485, 0.456, 0.406])\n",
    "    std  = np.array([0.229, 0.224, 0.225])\n",
    "    inp  = std * inp + mean\n",
    "    inp  = np.clip(inp, 0, 1)\n",
    "    plt.figure(figsize=(16,16))\n",
    "    plt.imshow(inp)\n",
    "    \n",
    "    if title is not None:\n",
    "        plt.title(title)\n",
    "    plt.pause(0.001)  # pause a bit so that plots are updated\n",
    "    return\n",
    "\n",
    "sampleLoader = DataLoader(trainSet, batch_size=6, shuffle=True)    \n",
    "\n",
    "# Get a batch of training data\n",
    "images, labels = next(iter(sampleLoader))\n",
    "print('train images shape: ', images.shape)\n",
    "print('train labels shape: ', labels.shape)\n",
    "\n",
    "# Make a grid from batch\n",
    "out = torchvision.utils.make_grid(images)\n",
    "\n",
    "imshow(out, title=[breed_dict_bw.get(x.item()) for x in labels])"
   ]
  },
  {
   "cell_type": "code",
   "execution_count": null,
   "metadata": {},
   "outputs": [],
   "source": []
  }
 ],
 "metadata": {
  "kernelspec": {
   "display_name": "Python 3",
   "language": "python",
   "name": "python3"
  },
  "language_info": {
   "codemirror_mode": {
    "name": "ipython",
    "version": 3
   },
   "file_extension": ".py",
   "mimetype": "text/x-python",
   "name": "python",
   "nbconvert_exporter": "python",
   "pygments_lexer": "ipython3",
   "version": "3.7.7"
  }
 },
 "nbformat": 4,
 "nbformat_minor": 4
}
