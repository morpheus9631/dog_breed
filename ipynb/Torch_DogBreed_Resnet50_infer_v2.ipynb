{
 "cells": [
  {
   "cell_type": "code",
   "execution_count": 1,
   "metadata": {},
   "outputs": [],
   "source": [
    "# From: https://www.kaggle.com/c/dog-breed-identification/data\n",
    "# Author: Morpheus Hsieh\n",
    "\n",
    "from __future__ import print_function, division\n",
    "\n",
    "# import os, sys\n",
    "import copy\n",
    "import json\n",
    "import matplotlib.pyplot as plt\n",
    "import numpy as np\n",
    "import pandas as pd\n",
    "import time\n",
    "from mpl_toolkits.axes_grid1 import ImageGrid\n",
    "from os import listdir\n",
    "from os.path import join, isfile\n",
    "from PIL import Image\n",
    "\n",
    "import torch\n",
    "import torch.nn as nn\n",
    "import torch.optim as optim\n",
    "from torch.autograd import Variable\n",
    "from torch.optim import lr_scheduler\n",
    "from torch.utils.data import Dataset, DataLoader\n",
    "\n",
    "import torchvision\n",
    "from torchvision import datasets, models, transforms, utils"
   ]
  },
  {
   "cell_type": "code",
   "execution_count": 2,
   "metadata": {},
   "outputs": [
    {
     "name": "stdout",
     "output_type": "stream",
     "text": [
      "Test path: 'D:\\GitWork\\dog_breed\\data\\raw\\test'\n"
     ]
    }
   ],
   "source": [
    "TestPath = r'D:\\GitWork\\dog_breed\\data\\raw\\test'\n",
    "print(\"Test path: '{}'\".format(TestPath))\n",
    "\n",
    "ResultPath = r'D:\\GitWork\\dog_breed\\models'\n",
    "print(\"Result path: '{}'\".format(ResultPath))\n",
    "\n",
    "BestModel = '20200916-160223_resnet50_acc94.pth'\n",
    "\n",
    "BatchSize = 6\n",
    "NUM_BREED_CLASSES = 16"
   ]
  },
  {
   "cell_type": "code",
   "execution_count": null,
   "metadata": {},
   "outputs": [],
   "source": [
    "normalize = transforms.Normalize(\n",
    "    mean = [0.485, 0.456, 0.406],\n",
    "    std  = [0.229, 0.224, 0.225]\n",
    ")\n",
    "\n",
    "# Transform\n",
    "transform = transforms.Compose([\n",
    "    transforms.Resize((224,224)),\n",
    "    transforms.ToTensor(),\n",
    "    normalize\n",
    "])"
   ]
  },
  {
   "cell_type": "code",
   "execution_count": null,
   "metadata": {},
   "outputs": [],
   "source": [
    "# Dataset\n",
    "\n",
    "def getJpgList(path):\n",
    "    img_list = [\n",
    "        f for f in listdir(path) \\\n",
    "        if join(path,f).endwith('.jpg') and isfile(join(path,f))\n",
    "    ]\n",
    "    return img_list\n",
    "    \n",
    "\n",
    "class myDataset(Dataset):\n",
    "    \n",
    "    def __init__(self, path, transform=None):\n",
    "        id_list = [f for f in listdir(path) \\\n",
    "                   if join(path,f).end\n",
    "        \n",
    "        npz_fname = self.npzFiles[phase]\n",
    "        data = np.load(join(path, npz_fname), allow_pickle=True)\n",
    "\n",
    "        self.images = data['images']\n",
    "        self.labels = data['labels']\n",
    "\n",
    "        self.transform = transform\n",
    "        self.len = len(self.images)\n",
    "\n",
    "    def __getitem__(self, index):\n",
    "        img_path = self.images[index]\n",
    "        img_pil = Image.open(img_path)\n",
    "\n",
    "        if self.transform is not None:\n",
    "            img = self.transform(img_pil)\n",
    "\n",
    "        lbl = int(self.labels[index])\n",
    "        \n",
    "        return [img, lbl]\n",
    "\n",
    "    def __len__(self):\n",
    "        return self.len"
   ]
  },
  {
   "cell_type": "code",
   "execution_count": null,
   "metadata": {},
   "outputs": [],
   "source": [
    "model = TheModelClass(*args, **kwargs)\n",
    "model.load_state_dict(torch.load(PATH))\n",
    "model.eval()"
   ]
  }
 ],
 "metadata": {
  "kernelspec": {
   "display_name": "Python 3",
   "language": "python",
   "name": "python3"
  },
  "language_info": {
   "codemirror_mode": {
    "name": "ipython",
    "version": 3
   },
   "file_extension": ".py",
   "mimetype": "text/x-python",
   "name": "python",
   "nbconvert_exporter": "python",
   "pygments_lexer": "ipython3",
   "version": "3.7.7"
  }
 },
 "nbformat": 4,
 "nbformat_minor": 4
}
