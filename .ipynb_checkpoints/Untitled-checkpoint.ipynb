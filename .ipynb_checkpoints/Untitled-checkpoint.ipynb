{
 "cells": [
  {
   "cell_type": "code",
   "execution_count": 2,
   "metadata": {},
   "outputs": [
    {
     "data": {
      "text/plain": [
       "['C:\\\\opt\\\\miniconda3\\\\envs\\\\py37\\\\lib\\\\site-packages\\\\ipykernel_launcher.py',\n",
       " '-f',\n",
       " 'C:\\\\Users\\\\Morpheus\\\\AppData\\\\Roaming\\\\jupyter\\\\runtime\\\\kernel-728bc3f7-b4f4-467f-afbe-ab82421769b0.json']"
      ]
     },
     "execution_count": 2,
     "metadata": {},
     "output_type": "execute_result"
    }
   ],
   "source": [
    "import sys\n",
    "sys.argv"
   ]
  },
  {
   "cell_type": "code",
   "execution_count": 6,
   "metadata": {},
   "outputs": [
    {
     "name": "stdout",
     "output_type": "stream",
     "text": [
      "Namespace(cfg='configs/config_train.yaml')\n"
     ]
    }
   ],
   "source": [
    "import argparse\n",
    "\n",
    "def parse_args(**args):\n",
    "    parser = argparse.ArgumentParser(description='dog breed')\n",
    "    parser.add_argument(\"--cfg\", type=str, default=\"configs/config_train.yaml\", help=\"Configurations.\")\n",
    "#     return parser.parse_args(**args)          # for python\n",
    "    return parser.parse_known_args(**args)    # for jupyter notebook\n",
    "\n",
    "# arguments \n",
    "args, _ = parse_args()\n",
    "print(args)"
   ]
  },
  {
   "cell_type": "code",
   "execution_count": null,
   "metadata": {},
   "outputs": [],
   "source": [
    "# training config\n",
    "from configs.config_train import get_cfg_defaults\n",
    "\n",
    "cfg = get_cfg_defaults()\n",
    "cfg.merge_from_file(args.cfg)\n",
    "cfg.freeze()\n",
    "print(cfg)"
   ]
  },
  {
   "cell_type": "code",
   "execution_count": null,
   "metadata": {},
   "outputs": [],
   "source": [
    "import pandas as pd\n",
    "import numpy as np\n",
    "\n",
    "df = pd.read_csv('./dog_breed/labels.csv')\n",
    "print(df.info())\n",
    "print(df.head())"
   ]
  }
 ],
 "metadata": {
  "kernelspec": {
   "display_name": "Python 3",
   "language": "python",
   "name": "python3"
  }
 },
 "nbformat": 4,
 "nbformat_minor": 4
}
